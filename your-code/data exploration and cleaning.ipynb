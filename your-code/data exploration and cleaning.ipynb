{
 "cells": [
  {
   "cell_type": "code",
   "execution_count": 1,
   "metadata": {},
   "outputs": [],
   "source": [
    "import pandas as pd\n",
    "import pymysql\n",
    "from sqlalchemy import create_engine"
   ]
  },
  {
   "cell_type": "code",
   "execution_count": 2,
   "metadata": {},
   "outputs": [],
   "source": [
    "sqlitedb_rel_path = '../data/raw_data_project_m1.db'\n",
    "\n",
    "conn_str = f'sqlite:///{sqlitedb_rel_path}'\n",
    "\n",
    "engine = create_engine(conn_str)"
   ]
  },
  {
   "cell_type": "code",
   "execution_count": 3,
   "metadata": {},
   "outputs": [],
   "source": [
    "df=pd.read_sql_query(\"SELECT * FROM sqlite_master WHERE type='table'\", engine)"
   ]
  },
  {
   "cell_type": "code",
   "execution_count": 4,
   "metadata": {},
   "outputs": [
    {
     "data": {
      "text/html": [
       "<div>\n",
       "<style scoped>\n",
       "    .dataframe tbody tr th:only-of-type {\n",
       "        vertical-align: middle;\n",
       "    }\n",
       "\n",
       "    .dataframe tbody tr th {\n",
       "        vertical-align: top;\n",
       "    }\n",
       "\n",
       "    .dataframe thead th {\n",
       "        text-align: right;\n",
       "    }\n",
       "</style>\n",
       "<table border=\"1\" class=\"dataframe\">\n",
       "  <thead>\n",
       "    <tr style=\"text-align: right;\">\n",
       "      <th></th>\n",
       "      <th>type</th>\n",
       "      <th>name</th>\n",
       "      <th>tbl_name</th>\n",
       "      <th>rootpage</th>\n",
       "      <th>sql</th>\n",
       "    </tr>\n",
       "  </thead>\n",
       "  <tbody>\n",
       "    <tr>\n",
       "      <th>0</th>\n",
       "      <td>table</td>\n",
       "      <td>personal_info</td>\n",
       "      <td>personal_info</td>\n",
       "      <td>2</td>\n",
       "      <td>CREATE TABLE personal_info (\\n\\tuuid TEXT NOT ...</td>\n",
       "    </tr>\n",
       "    <tr>\n",
       "      <th>1</th>\n",
       "      <td>table</td>\n",
       "      <td>country_info</td>\n",
       "      <td>country_info</td>\n",
       "      <td>401</td>\n",
       "      <td>CREATE TABLE country_info (\\n\\tuuid TEXT NOT N...</td>\n",
       "    </tr>\n",
       "    <tr>\n",
       "      <th>2</th>\n",
       "      <td>table</td>\n",
       "      <td>career_info</td>\n",
       "      <td>career_info</td>\n",
       "      <td>762</td>\n",
       "      <td>CREATE TABLE career_info (\\n\\tuuid TEXT NOT NU...</td>\n",
       "    </tr>\n",
       "    <tr>\n",
       "      <th>3</th>\n",
       "      <td>table</td>\n",
       "      <td>poll_info</td>\n",
       "      <td>poll_info</td>\n",
       "      <td>1168</td>\n",
       "      <td>CREATE TABLE poll_info (\\n\\tuuid TEXT NOT NULL...</td>\n",
       "    </tr>\n",
       "  </tbody>\n",
       "</table>\n",
       "</div>"
      ],
      "text/plain": [
       "    type           name       tbl_name  rootpage  \\\n",
       "0  table  personal_info  personal_info         2   \n",
       "1  table   country_info   country_info       401   \n",
       "2  table    career_info    career_info       762   \n",
       "3  table      poll_info      poll_info      1168   \n",
       "\n",
       "                                                 sql  \n",
       "0  CREATE TABLE personal_info (\\n\\tuuid TEXT NOT ...  \n",
       "1  CREATE TABLE country_info (\\n\\tuuid TEXT NOT N...  \n",
       "2  CREATE TABLE career_info (\\n\\tuuid TEXT NOT NU...  \n",
       "3  CREATE TABLE poll_info (\\n\\tuuid TEXT NOT NULL...  "
      ]
     },
     "execution_count": 4,
     "metadata": {},
     "output_type": "execute_result"
    }
   ],
   "source": [
    "df.head()"
   ]
  },
  {
   "cell_type": "code",
   "execution_count": 53,
   "metadata": {},
   "outputs": [
    {
     "data": {
      "text/plain": [
       "0       61 years old\n",
       "1       57 years old\n",
       "2       32 years old\n",
       "3       45 years old\n",
       "4       41 years old\n",
       "            ...     \n",
       "9644    37 years old\n",
       "9645    53 years old\n",
       "9646            1992\n",
       "9647    47 years old\n",
       "9648    51 years old\n",
       "Name: age, Length: 9649, dtype: object"
      ]
     },
     "execution_count": 53,
     "metadata": {},
     "output_type": "execute_result"
    }
   ],
   "source": [
    "personal_info=pd.read_sql_query(\"SELECT * FROM personal_info\", engine)\n",
    "personal_info['age']"
   ]
  },
  {
   "cell_type": "code",
   "execution_count": 54,
   "metadata": {},
   "outputs": [],
   "source": [
    "personal_info['age'] = personal_info['age'].str.replace(' years old', '')\n",
    "#el blucle busca en la columna 'age' números del rango, si los encuentra los resta al año de la toma de datos 2016.\n",
    "for x in range(1900, 2021):\n",
    "    personal_info['age'] = personal_info['age'].str.replace(f'{x}', f'{2016-x}')\n"
   ]
  },
  {
   "cell_type": "code",
   "execution_count": 55,
   "metadata": {},
   "outputs": [
    {
     "data": {
      "text/plain": [
       "array(['male', 'Male', 'Fem', 'FeMale', 'female'], dtype=object)"
      ]
     },
     "execution_count": 55,
     "metadata": {},
     "output_type": "execute_result"
    }
   ],
   "source": [
    "personal_info.gender.unique()"
   ]
  },
  {
   "cell_type": "code",
   "execution_count": 56,
   "metadata": {},
   "outputs": [
    {
     "data": {
      "text/html": [
       "<div>\n",
       "<style scoped>\n",
       "    .dataframe tbody tr th:only-of-type {\n",
       "        vertical-align: middle;\n",
       "    }\n",
       "\n",
       "    .dataframe tbody tr th {\n",
       "        vertical-align: top;\n",
       "    }\n",
       "\n",
       "    .dataframe thead th {\n",
       "        text-align: right;\n",
       "    }\n",
       "</style>\n",
       "<table border=\"1\" class=\"dataframe\">\n",
       "  <thead>\n",
       "    <tr style=\"text-align: right;\">\n",
       "      <th></th>\n",
       "      <th>uuid</th>\n",
       "      <th>age</th>\n",
       "      <th>gender</th>\n",
       "      <th>dem_has_children</th>\n",
       "      <th>age_group</th>\n",
       "    </tr>\n",
       "  </thead>\n",
       "  <tbody>\n",
       "    <tr>\n",
       "      <th>0</th>\n",
       "      <td>f6e7ee00-deac-0133-4de8-0a81e8b09a82</td>\n",
       "      <td>61</td>\n",
       "      <td>Male</td>\n",
       "      <td>NO</td>\n",
       "      <td>40_65</td>\n",
       "    </tr>\n",
       "    <tr>\n",
       "      <th>1</th>\n",
       "      <td>54f0f1c0-dda1-0133-a559-0a81e8b09a82</td>\n",
       "      <td>57</td>\n",
       "      <td>Male</td>\n",
       "      <td>yES</td>\n",
       "      <td>40_65</td>\n",
       "    </tr>\n",
       "    <tr>\n",
       "      <th>2</th>\n",
       "      <td>83127080-da3d-0133-c74f-0a81e8b09a82</td>\n",
       "      <td>32</td>\n",
       "      <td>Male</td>\n",
       "      <td>nO</td>\n",
       "      <td>26_39</td>\n",
       "    </tr>\n",
       "    <tr>\n",
       "      <th>3</th>\n",
       "      <td>15626d40-db13-0133-ea5c-0a81e8b09a82</td>\n",
       "      <td>45</td>\n",
       "      <td>Male</td>\n",
       "      <td>YES</td>\n",
       "      <td>40_65</td>\n",
       "    </tr>\n",
       "    <tr>\n",
       "      <th>4</th>\n",
       "      <td>24954a70-db98-0133-4a64-0a81e8b09a82</td>\n",
       "      <td>41</td>\n",
       "      <td>Female</td>\n",
       "      <td>yES</td>\n",
       "      <td>40_65</td>\n",
       "    </tr>\n",
       "  </tbody>\n",
       "</table>\n",
       "</div>"
      ],
      "text/plain": [
       "                                   uuid age  gender dem_has_children age_group\n",
       "0  f6e7ee00-deac-0133-4de8-0a81e8b09a82  61    Male               NO     40_65\n",
       "1  54f0f1c0-dda1-0133-a559-0a81e8b09a82  57    Male              yES     40_65\n",
       "2  83127080-da3d-0133-c74f-0a81e8b09a82  32    Male               nO     26_39\n",
       "3  15626d40-db13-0133-ea5c-0a81e8b09a82  45    Male              YES     40_65\n",
       "4  24954a70-db98-0133-4a64-0a81e8b09a82  41  Female              yES     40_65"
      ]
     },
     "execution_count": 56,
     "metadata": {},
     "output_type": "execute_result"
    }
   ],
   "source": [
    "personal_info['gender'].str.lower()\n",
    "personal_info.loc[(personal_info['gender'].str.lower().str[0] == 'f'),'gender']='Female'\n",
    "personal_info.loc[(personal_info['gender'].str.lower().str[0] == 'm'),'gender']='Male'\n",
    "personal_info.head()"
   ]
  },
  {
   "cell_type": "code",
   "execution_count": 57,
   "metadata": {},
   "outputs": [
    {
     "data": {
      "text/plain": [
       "array(['Male', 'Female'], dtype=object)"
      ]
     },
     "execution_count": 57,
     "metadata": {},
     "output_type": "execute_result"
    }
   ],
   "source": [
    "personal_info.gender.unique()"
   ]
  },
  {
   "cell_type": "code",
   "execution_count": 58,
   "metadata": {},
   "outputs": [
    {
     "data": {
      "text/plain": [
       "array(['countryside', 'urban', 'city', 'Country', 'rural', 'Non-Rural'],\n",
       "      dtype=object)"
      ]
     },
     "execution_count": 58,
     "metadata": {},
     "output_type": "execute_result"
    }
   ],
   "source": [
    "country_info=pd.read_sql_query(\"SELECT * FROM  country_info\", engine)\n",
    "country_info.rural.unique()"
   ]
  },
  {
   "cell_type": "code",
   "execution_count": 59,
   "metadata": {},
   "outputs": [],
   "source": [
    "country_info['rural'].str.lower()\n",
    "country_info.loc[(country_info['rural'].str.lower().str[0] == 'c'),'rural']='rural'\n",
    "country_info.loc[(country_info['rural'].str.lower().str[3] == '-'),'rural']='urban'"
   ]
  },
  {
   "cell_type": "code",
   "execution_count": 60,
   "metadata": {},
   "outputs": [
    {
     "data": {
      "text/html": [
       "<div>\n",
       "<style scoped>\n",
       "    .dataframe tbody tr th:only-of-type {\n",
       "        vertical-align: middle;\n",
       "    }\n",
       "\n",
       "    .dataframe tbody tr th {\n",
       "        vertical-align: top;\n",
       "    }\n",
       "\n",
       "    .dataframe thead th {\n",
       "        text-align: right;\n",
       "    }\n",
       "</style>\n",
       "<table border=\"1\" class=\"dataframe\">\n",
       "  <thead>\n",
       "    <tr style=\"text-align: right;\">\n",
       "      <th></th>\n",
       "      <th>uuid</th>\n",
       "      <th>country_code</th>\n",
       "      <th>rural</th>\n",
       "    </tr>\n",
       "  </thead>\n",
       "  <tbody>\n",
       "    <tr>\n",
       "      <th>0</th>\n",
       "      <td>f6e7ee00-deac-0133-4de8-0a81e8b09a82</td>\n",
       "      <td>AT</td>\n",
       "      <td>rural</td>\n",
       "    </tr>\n",
       "    <tr>\n",
       "      <th>1</th>\n",
       "      <td>54f0f1c0-dda1-0133-a559-0a81e8b09a82</td>\n",
       "      <td>AT</td>\n",
       "      <td>urban</td>\n",
       "    </tr>\n",
       "    <tr>\n",
       "      <th>2</th>\n",
       "      <td>83127080-da3d-0133-c74f-0a81e8b09a82</td>\n",
       "      <td>AT</td>\n",
       "      <td>rural</td>\n",
       "    </tr>\n",
       "    <tr>\n",
       "      <th>3</th>\n",
       "      <td>15626d40-db13-0133-ea5c-0a81e8b09a82</td>\n",
       "      <td>AT</td>\n",
       "      <td>rural</td>\n",
       "    </tr>\n",
       "    <tr>\n",
       "      <th>4</th>\n",
       "      <td>24954a70-db98-0133-4a64-0a81e8b09a82</td>\n",
       "      <td>AT</td>\n",
       "      <td>rural</td>\n",
       "    </tr>\n",
       "  </tbody>\n",
       "</table>\n",
       "</div>"
      ],
      "text/plain": [
       "                                   uuid country_code  rural\n",
       "0  f6e7ee00-deac-0133-4de8-0a81e8b09a82           AT  rural\n",
       "1  54f0f1c0-dda1-0133-a559-0a81e8b09a82           AT  urban\n",
       "2  83127080-da3d-0133-c74f-0a81e8b09a82           AT  rural\n",
       "3  15626d40-db13-0133-ea5c-0a81e8b09a82           AT  rural\n",
       "4  24954a70-db98-0133-4a64-0a81e8b09a82           AT  rural"
      ]
     },
     "execution_count": 60,
     "metadata": {},
     "output_type": "execute_result"
    }
   ],
   "source": [
    "country_info.head()"
   ]
  },
  {
   "cell_type": "code",
   "execution_count": 47,
   "metadata": {},
   "outputs": [
    {
     "data": {
      "text/plain": [
       "array(['rural', 'urban'], dtype=object)"
      ]
     },
     "execution_count": 47,
     "metadata": {},
     "output_type": "execute_result"
    }
   ],
   "source": [
    "country_info.rural.unique()"
   ]
  },
  {
   "cell_type": "code",
   "execution_count": 48,
   "metadata": {},
   "outputs": [],
   "source": [
    "career_info=pd.read_sql_query(\"SELECT * FROM  career_info\", engine)"
   ]
  },
  {
   "cell_type": "code",
   "execution_count": 49,
   "metadata": {},
   "outputs": [
    {
     "data": {
      "text/html": [
       "<div>\n",
       "<style scoped>\n",
       "    .dataframe tbody tr th:only-of-type {\n",
       "        vertical-align: middle;\n",
       "    }\n",
       "\n",
       "    .dataframe tbody tr th {\n",
       "        vertical-align: top;\n",
       "    }\n",
       "\n",
       "    .dataframe thead th {\n",
       "        text-align: right;\n",
       "    }\n",
       "</style>\n",
       "<table border=\"1\" class=\"dataframe\">\n",
       "  <thead>\n",
       "    <tr style=\"text-align: right;\">\n",
       "      <th></th>\n",
       "      <th>uuid</th>\n",
       "      <th>dem_education_level</th>\n",
       "      <th>dem_full_time_job</th>\n",
       "      <th>normalized_job_code</th>\n",
       "    </tr>\n",
       "  </thead>\n",
       "  <tbody>\n",
       "    <tr>\n",
       "      <th>0</th>\n",
       "      <td>f6e7ee00-deac-0133-4de8-0a81e8b09a82</td>\n",
       "      <td>no</td>\n",
       "      <td>no</td>\n",
       "      <td>None</td>\n",
       "    </tr>\n",
       "    <tr>\n",
       "      <th>1</th>\n",
       "      <td>54f0f1c0-dda1-0133-a559-0a81e8b09a82</td>\n",
       "      <td>high</td>\n",
       "      <td>yes</td>\n",
       "      <td>861a9b9151e11362eb3c77ca914172d0</td>\n",
       "    </tr>\n",
       "    <tr>\n",
       "      <th>2</th>\n",
       "      <td>83127080-da3d-0133-c74f-0a81e8b09a82</td>\n",
       "      <td>None</td>\n",
       "      <td>no</td>\n",
       "      <td>None</td>\n",
       "    </tr>\n",
       "    <tr>\n",
       "      <th>3</th>\n",
       "      <td>15626d40-db13-0133-ea5c-0a81e8b09a82</td>\n",
       "      <td>high</td>\n",
       "      <td>yes</td>\n",
       "      <td>049a3f3a2b5f85cb2971ba77ad66e10c</td>\n",
       "    </tr>\n",
       "    <tr>\n",
       "      <th>4</th>\n",
       "      <td>24954a70-db98-0133-4a64-0a81e8b09a82</td>\n",
       "      <td>high</td>\n",
       "      <td>yes</td>\n",
       "      <td>f4b2fb1aa40f661488e2782b6d57ad2f</td>\n",
       "    </tr>\n",
       "  </tbody>\n",
       "</table>\n",
       "</div>"
      ],
      "text/plain": [
       "                                   uuid dem_education_level dem_full_time_job  \\\n",
       "0  f6e7ee00-deac-0133-4de8-0a81e8b09a82                  no                no   \n",
       "1  54f0f1c0-dda1-0133-a559-0a81e8b09a82                high               yes   \n",
       "2  83127080-da3d-0133-c74f-0a81e8b09a82                None                no   \n",
       "3  15626d40-db13-0133-ea5c-0a81e8b09a82                high               yes   \n",
       "4  24954a70-db98-0133-4a64-0a81e8b09a82                high               yes   \n",
       "\n",
       "                normalized_job_code  \n",
       "0                              None  \n",
       "1  861a9b9151e11362eb3c77ca914172d0  \n",
       "2                              None  \n",
       "3  049a3f3a2b5f85cb2971ba77ad66e10c  \n",
       "4  f4b2fb1aa40f661488e2782b6d57ad2f  "
      ]
     },
     "execution_count": 49,
     "metadata": {},
     "output_type": "execute_result"
    }
   ],
   "source": [
    "career_info.head()"
   ]
  },
  {
   "cell_type": "code",
   "execution_count": 50,
   "metadata": {},
   "outputs": [],
   "source": [
    "poll_info=pd.read_sql_query(\"SELECT * FROM  poll_info\", engine)"
   ]
  },
  {
   "cell_type": "code",
   "execution_count": 51,
   "metadata": {},
   "outputs": [
    {
     "data": {
      "text/html": [
       "<div>\n",
       "<style scoped>\n",
       "    .dataframe tbody tr th:only-of-type {\n",
       "        vertical-align: middle;\n",
       "    }\n",
       "\n",
       "    .dataframe tbody tr th {\n",
       "        vertical-align: top;\n",
       "    }\n",
       "\n",
       "    .dataframe thead th {\n",
       "        text-align: right;\n",
       "    }\n",
       "</style>\n",
       "<table border=\"1\" class=\"dataframe\">\n",
       "  <thead>\n",
       "    <tr style=\"text-align: right;\">\n",
       "      <th></th>\n",
       "      <th>uuid</th>\n",
       "      <th>question_bbi_2016wave4_basicincome_awareness</th>\n",
       "      <th>question_bbi_2016wave4_basicincome_vote</th>\n",
       "      <th>question_bbi_2016wave4_basicincome_effect</th>\n",
       "      <th>question_bbi_2016wave4_basicincome_argumentsfor</th>\n",
       "      <th>question_bbi_2016wave4_basicincome_argumentsagainst</th>\n",
       "    </tr>\n",
       "  </thead>\n",
       "  <tbody>\n",
       "    <tr>\n",
       "      <th>0</th>\n",
       "      <td>f6e7ee00-deac-0133-4de8-0a81e8b09a82</td>\n",
       "      <td>I know something about it</td>\n",
       "      <td>I would not vote</td>\n",
       "      <td>None of the above</td>\n",
       "      <td>None of the above</td>\n",
       "      <td>None of the above</td>\n",
       "    </tr>\n",
       "    <tr>\n",
       "      <th>1</th>\n",
       "      <td>54f0f1c0-dda1-0133-a559-0a81e8b09a82</td>\n",
       "      <td>I understand it fully</td>\n",
       "      <td>I would probably vote for it</td>\n",
       "      <td>A basic income would not affect my work choices</td>\n",
       "      <td>It increases appreciation for household work a...</td>\n",
       "      <td>It might encourage people to stop working</td>\n",
       "    </tr>\n",
       "    <tr>\n",
       "      <th>2</th>\n",
       "      <td>83127080-da3d-0133-c74f-0a81e8b09a82</td>\n",
       "      <td>I have heard just a little about it</td>\n",
       "      <td>I would not vote</td>\n",
       "      <td>‰Û_ gain additional skills</td>\n",
       "      <td>It creates more equality of opportunity</td>\n",
       "      <td>Foreigners might come to my country and take a...</td>\n",
       "    </tr>\n",
       "    <tr>\n",
       "      <th>3</th>\n",
       "      <td>15626d40-db13-0133-ea5c-0a81e8b09a82</td>\n",
       "      <td>I have heard just a little about it</td>\n",
       "      <td>I would probably vote for it</td>\n",
       "      <td>‰Û_ work less</td>\n",
       "      <td>It reduces anxiety about financing basic needs</td>\n",
       "      <td>None of the above</td>\n",
       "    </tr>\n",
       "    <tr>\n",
       "      <th>4</th>\n",
       "      <td>24954a70-db98-0133-4a64-0a81e8b09a82</td>\n",
       "      <td>I have heard just a little about it</td>\n",
       "      <td>I would probably vote for it</td>\n",
       "      <td>None of the above</td>\n",
       "      <td>It reduces anxiety about financing basic needs</td>\n",
       "      <td>It is impossible to finance | It might encoura...</td>\n",
       "    </tr>\n",
       "  </tbody>\n",
       "</table>\n",
       "</div>"
      ],
      "text/plain": [
       "                                   uuid  \\\n",
       "0  f6e7ee00-deac-0133-4de8-0a81e8b09a82   \n",
       "1  54f0f1c0-dda1-0133-a559-0a81e8b09a82   \n",
       "2  83127080-da3d-0133-c74f-0a81e8b09a82   \n",
       "3  15626d40-db13-0133-ea5c-0a81e8b09a82   \n",
       "4  24954a70-db98-0133-4a64-0a81e8b09a82   \n",
       "\n",
       "  question_bbi_2016wave4_basicincome_awareness  \\\n",
       "0                    I know something about it   \n",
       "1                        I understand it fully   \n",
       "2          I have heard just a little about it   \n",
       "3          I have heard just a little about it   \n",
       "4          I have heard just a little about it   \n",
       "\n",
       "  question_bbi_2016wave4_basicincome_vote  \\\n",
       "0                        I would not vote   \n",
       "1            I would probably vote for it   \n",
       "2                        I would not vote   \n",
       "3            I would probably vote for it   \n",
       "4            I would probably vote for it   \n",
       "\n",
       "         question_bbi_2016wave4_basicincome_effect  \\\n",
       "0                                None of the above   \n",
       "1  A basic income would not affect my work choices   \n",
       "2                       ‰Û_ gain additional skills   \n",
       "3                                    ‰Û_ work less   \n",
       "4                                None of the above   \n",
       "\n",
       "     question_bbi_2016wave4_basicincome_argumentsfor  \\\n",
       "0                                  None of the above   \n",
       "1  It increases appreciation for household work a...   \n",
       "2            It creates more equality of opportunity   \n",
       "3     It reduces anxiety about financing basic needs   \n",
       "4     It reduces anxiety about financing basic needs   \n",
       "\n",
       "  question_bbi_2016wave4_basicincome_argumentsagainst  \n",
       "0                                  None of the above   \n",
       "1          It might encourage people to stop working   \n",
       "2  Foreigners might come to my country and take a...   \n",
       "3                                  None of the above   \n",
       "4  It is impossible to finance | It might encoura...   "
      ]
     },
     "execution_count": 51,
     "metadata": {},
     "output_type": "execute_result"
    }
   ],
   "source": [
    "poll_info.head()"
   ]
  },
  {
   "cell_type": "code",
   "execution_count": null,
   "metadata": {},
   "outputs": [],
   "source": []
  },
  {
   "cell_type": "code",
   "execution_count": null,
   "metadata": {},
   "outputs": [],
   "source": []
  },
  {
   "cell_type": "code",
   "execution_count": null,
   "metadata": {},
   "outputs": [],
   "source": []
  }
 ],
 "metadata": {
  "kernelspec": {
   "display_name": "Python 3",
   "language": "python",
   "name": "python3"
  },
  "language_info": {
   "codemirror_mode": {
    "name": "ipython",
    "version": 3
   },
   "file_extension": ".py",
   "mimetype": "text/x-python",
   "name": "python",
   "nbconvert_exporter": "python",
   "pygments_lexer": "ipython3",
   "version": "3.6.9"
  }
 },
 "nbformat": 4,
 "nbformat_minor": 4
}
