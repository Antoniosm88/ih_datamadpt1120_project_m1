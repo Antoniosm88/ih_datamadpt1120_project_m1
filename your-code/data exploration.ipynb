{
 "cells": [
  {
   "cell_type": "code",
   "execution_count": 1,
   "metadata": {},
   "outputs": [],
   "source": [
    "import pandas as pd\n",
    "import pymysql\n",
    "from sqlalchemy import create_engine"
   ]
  },
  {
   "cell_type": "code",
   "execution_count": 2,
   "metadata": {},
   "outputs": [],
   "source": [
    "sqlitedb_rel_path = '../data/raw_data_project_m1.db'\n",
    "\n",
    "conn_str = f'sqlite:///{sqlitedb_rel_path}'\n",
    "\n",
    "engine = create_engine(conn_str)"
   ]
  },
  {
   "cell_type": "code",
   "execution_count": 4,
   "metadata": {},
   "outputs": [
    {
     "data": {
      "text/html": [
       "<div>\n",
       "<style scoped>\n",
       "    .dataframe tbody tr th:only-of-type {\n",
       "        vertical-align: middle;\n",
       "    }\n",
       "\n",
       "    .dataframe tbody tr th {\n",
       "        vertical-align: top;\n",
       "    }\n",
       "\n",
       "    .dataframe thead th {\n",
       "        text-align: right;\n",
       "    }\n",
       "</style>\n",
       "<table border=\"1\" class=\"dataframe\">\n",
       "  <thead>\n",
       "    <tr style=\"text-align: right;\">\n",
       "      <th></th>\n",
       "      <th>type</th>\n",
       "      <th>name</th>\n",
       "      <th>tbl_name</th>\n",
       "      <th>rootpage</th>\n",
       "      <th>sql</th>\n",
       "    </tr>\n",
       "  </thead>\n",
       "  <tbody>\n",
       "    <tr>\n",
       "      <th>0</th>\n",
       "      <td>table</td>\n",
       "      <td>personal_info</td>\n",
       "      <td>personal_info</td>\n",
       "      <td>2</td>\n",
       "      <td>CREATE TABLE personal_info (\\n\\tuuid TEXT NOT ...</td>\n",
       "    </tr>\n",
       "    <tr>\n",
       "      <th>1</th>\n",
       "      <td>table</td>\n",
       "      <td>country_info</td>\n",
       "      <td>country_info</td>\n",
       "      <td>401</td>\n",
       "      <td>CREATE TABLE country_info (\\n\\tuuid TEXT NOT N...</td>\n",
       "    </tr>\n",
       "    <tr>\n",
       "      <th>2</th>\n",
       "      <td>table</td>\n",
       "      <td>career_info</td>\n",
       "      <td>career_info</td>\n",
       "      <td>762</td>\n",
       "      <td>CREATE TABLE career_info (\\n\\tuuid TEXT NOT NU...</td>\n",
       "    </tr>\n",
       "    <tr>\n",
       "      <th>3</th>\n",
       "      <td>table</td>\n",
       "      <td>poll_info</td>\n",
       "      <td>poll_info</td>\n",
       "      <td>1168</td>\n",
       "      <td>CREATE TABLE poll_info (\\n\\tuuid TEXT NOT NULL...</td>\n",
       "    </tr>\n",
       "  </tbody>\n",
       "</table>\n",
       "</div>"
      ],
      "text/plain": [
       "    type           name       tbl_name  rootpage  \\\n",
       "0  table  personal_info  personal_info         2   \n",
       "1  table   country_info   country_info       401   \n",
       "2  table    career_info    career_info       762   \n",
       "3  table      poll_info      poll_info      1168   \n",
       "\n",
       "                                                 sql  \n",
       "0  CREATE TABLE personal_info (\\n\\tuuid TEXT NOT ...  \n",
       "1  CREATE TABLE country_info (\\n\\tuuid TEXT NOT N...  \n",
       "2  CREATE TABLE career_info (\\n\\tuuid TEXT NOT NU...  \n",
       "3  CREATE TABLE poll_info (\\n\\tuuid TEXT NOT NULL...  "
      ]
     },
     "execution_count": 4,
     "metadata": {},
     "output_type": "execute_result"
    }
   ],
   "source": [
    "pd.read_sql_query(\"SELECT * FROM sqlite_master WHERE type='table'\", engine)"
   ]
  },
  {
   "cell_type": "code",
   "execution_count": null,
   "metadata": {},
   "outputs": [],
   "source": []
  }
 ],
 "metadata": {
  "kernelspec": {
   "display_name": "Python 3",
   "language": "python",
   "name": "python3"
  },
  "language_info": {
   "codemirror_mode": {
    "name": "ipython",
    "version": 3
   },
   "file_extension": ".py",
   "mimetype": "text/x-python",
   "name": "python",
   "nbconvert_exporter": "python",
   "pygments_lexer": "ipython3",
   "version": "3.6.9"
  }
 },
 "nbformat": 4,
 "nbformat_minor": 4
}
